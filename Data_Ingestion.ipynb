{
 "cells": [
  {
   "cell_type": "code",
   "execution_count": 1,
   "id": "fd75b977",
   "metadata": {},
   "outputs": [],
   "source": [
    "import mysql.connector\n",
    "from mysql.connector import Error\n",
    "import os\n",
    "import logging\n",
    "from datetime import datetime\n",
    "from tqdm import tqdm "
   ]
  },
  {
   "cell_type": "code",
   "execution_count": 2,
   "id": "a1ee925e",
   "metadata": {},
   "outputs": [],
   "source": [
    "# Configure logging similar to the provided data_ingestion example\n",
    "logging.basicConfig(filename='weather_data_log.log',  # Log file path\n",
    "                    filemode='a',  # Append mode\n",
    "                    format='%(asctime)s - %(levelname)s - %(message)s',\n",
    "                    level=logging.INFO)"
   ]
  },
  {
   "cell_type": "code",
   "execution_count": 3,
   "id": "50a6eb93",
   "metadata": {},
   "outputs": [],
   "source": [
    "# Database configuration details, Please replace the host, user, password, database name accordingly.\n",
    "db_config = {\n",
    "    'host': 'localhost',\n",
    "    'user': 'root',  \n",
    "    'password': '',  \n",
    "    'database': ''  \n",
    "}"
   ]
  },
  {
   "cell_type": "code",
   "execution_count": 4,
   "id": "434db8d8",
   "metadata": {},
   "outputs": [],
   "source": [
    "def db_connection(config):\n",
    "    \"\"\"A function to establish MySQL database connection.\"\"\"\n",
    "    try:\n",
    "        connection = mysql.connector.connect(**config)\n",
    "        return connection\n",
    "    except mysql.connector.Error as error:\n",
    "        logging.error(f\"Error connecting to the database: {error}\")\n",
    "    return None"
   ]
  },
  {
   "cell_type": "code",
   "execution_count": 5,
   "id": "abafea68",
   "metadata": {},
   "outputs": [],
   "source": [
    "def files_processing(file_path, connection):\n",
    "    \"\"\"Function to process and insert data from a local file into the MySQL database.\n",
    "\n",
    "    Args:\n",
    "        file_path (str): The path to the data file.\n",
    "        connection: Connection object for the MySQL database.\n",
    "\n",
    "    Returns:\n",
    "        int: Total number of records inserted into the database.\n",
    "    \"\"\"\n",
    "    total_records = 0\n",
    "    station_id = os.path.splitext(os.path.basename(file_path))[0]\n",
    "    with open(file_path, 'r') as data_file:\n",
    "        records_to_insert = []\n",
    "        for line in data_file:\n",
    "            date, max_temp_tenths, min_temp_tenths, precipitation_tenths = line.strip().split()\n",
    "            formatted_date = f\"{date[:4]}-{date[4:6]}-{date[6:]}\"  # Formatting in usual date format YYYY-MM-DD\n",
    "            max_temp = None if max_temp_tenths == '-9999' else float(max_temp_tenths) / 10  # Converting temperature values into degree Celsius\n",
    "            min_temp = None if min_temp_tenths == '-9999' else float(min_temp_tenths) / 10  # Converting temperature values into degree Celsius\n",
    "            precipitation = None if precipitation_tenths == '-9999' else float(precipitation_tenths) / 10  # Converting precipitation values into centimeter scale\n",
    "            records_to_insert.append((formatted_date, max_temp, min_temp, precipitation, station_id))\n",
    "\n",
    "    if records_to_insert:\n",
    "        cursor = connection.cursor()\n",
    "        batch_insert_query = \"\"\"\n",
    "        INSERT INTO weather_data (date, max_temp, min_temp, precipitation, station_id)\n",
    "        VALUES (%s, %s, %s, %s, %s)\n",
    "        ON DUPLICATE KEY UPDATE \n",
    "            max_temp = VALUES(max_temp),\n",
    "            min_temp = VALUES(min_temp),\n",
    "            precipitation = VALUES(precipitation);\n",
    "        \"\"\"\n",
    "        try:\n",
    "            cursor.executemany(batch_insert_query, records_to_insert)\n",
    "            connection.commit()\n",
    "            total_records += len(records_to_insert)  # Assuming all operations are successful\n",
    "        except mysql.connector.Error as error:\n",
    "            logging.error(f\"Error inserting data from file {file_path}: {error}\")\n",
    "        finally:\n",
    "            cursor.close()\n",
    "\n",
    "    return total_records\n"
   ]
  },
  {
   "cell_type": "code",
   "execution_count": 6,
   "id": "b2a34f2b",
   "metadata": {},
   "outputs": [],
   "source": [
    "def data_ingestion(directory, config):\n",
    "    \"\"\"\n",
    "    Function to ingest data from all files within the local directory.\n",
    "\n",
    "    Args:\n",
    "        directory (str): The path to the directory containing data files.\n",
    "        config: Configuration object for database connection.\n",
    "\n",
    "    Returns:\n",
    "        None\n",
    "    \"\"\"\n",
    "    conn = db_connection(config)  # Assume db_connection is a function that connects to the database\n",
    "    if not conn:\n",
    "        logging.error(\"Failed to connect to the database.\")\n",
    "        return\n",
    "\n",
    "    total_inserted = 0\n",
    "    start_time = datetime.now()\n",
    "    logging.info(f\"Start time: {start_time.strftime('%Y-%m-%d %H:%M:%S')}\")\n",
    "    logging.info(\"Starting data ingestion process...\")\n",
    "\n",
    "    files = [f for f in os.listdir(directory) if f.endswith('.txt')]\n",
    "    total_files = len(files)\n",
    "\n",
    "    with tqdm(total=total_files, desc=\"Ingesting Data\", unit=\"file\") as pbar:\n",
    "        for filename in files:\n",
    "            full_path = os.path.join(directory, filename)\n",
    "            records_inserted = files_processing(full_path, conn)  # Assume files_processing is defined elsewhere\n",
    "            total_inserted += records_inserted\n",
    "            pbar.update(1)\n",
    "\n",
    "    conn.close()\n",
    "    end_time = datetime.now()\n",
    "    duration = end_time - start_time\n",
    "    logging.info(f\"End time: {end_time.strftime('%Y-%m-%d %H:%M:%S')}\")\n",
    "    logging.info(f\"Duration: {duration}\")\n",
    "    logging.info(f\"Total records processed: {total_inserted}\")\n",
    "    logging.info(\"Data ingestion completed.\")\n"
   ]
  },
  {
   "cell_type": "code",
   "execution_count": 7,
   "id": "74a3d705",
   "metadata": {},
   "outputs": [
    {
     "name": "stderr",
     "output_type": "stream",
     "text": [
      "Ingesting Data: 100%|███████████████████████████████████████████████████████████████████████████| 167/167 [01:42<00:00,  1.62file/s]\n"
     ]
    }
   ],
   "source": [
    "if __name__ == \"__main__\":\n",
    "    data_directory = 'C:/Users/Sravya/Desktop/code-challenge-template/wx_data'  # local data directory path\n",
    "    data_ingestion(data_directory, db_config)"
   ]
  }
 ],
 "metadata": {
  "kernelspec": {
   "display_name": "Python 3 (ipykernel)",
   "language": "python",
   "name": "python3"
  },
  "language_info": {
   "codemirror_mode": {
    "name": "ipython",
    "version": 3
   },
   "file_extension": ".py",
   "mimetype": "text/x-python",
   "name": "python",
   "nbconvert_exporter": "python",
   "pygments_lexer": "ipython3",
   "version": "3.10.9"
  }
 },
 "nbformat": 4,
 "nbformat_minor": 5
}
