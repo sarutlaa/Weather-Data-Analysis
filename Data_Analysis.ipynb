{
 "cells": [
  {
   "cell_type": "code",
   "execution_count": 1,
   "id": "c8ff36f6",
   "metadata": {},
   "outputs": [],
   "source": [
    "import mysql.connector\n",
    "from mysql.connector import Error\n",
    "import os\n",
    "import logging\n",
    "from datetime import datetime\n",
    "from tqdm import tqdm"
   ]
  },
  {
   "cell_type": "code",
   "execution_count": 2,
   "id": "73e3010b",
   "metadata": {},
   "outputs": [],
   "source": [
    "# Database configuration details, Please replace the host, user, password, database name accordingly.\n",
    "db_config = {\n",
    "    'host': 'localhost',\n",
    "    'user': 'root', \n",
    "    'password': 'root@123',  \n",
    "    'database': 'corteva'  \n",
    "}"
   ]
  },
  {
   "cell_type": "code",
   "execution_count": 3,
   "id": "47325e8a",
   "metadata": {},
   "outputs": [],
   "source": [
    "def weather_data_statistics(db_config):\n",
    "    '''Function to caculate avg_temp ( min and max) and total pricipitation from weather_data table\n",
    "    and to ingest into a new table in the same database, called weather_statistics.\n",
    "    '''\n",
    "    try:\n",
    "        conn = mysql.connector.connect(**db_config)\n",
    "        if conn.is_connected():\n",
    "            cursor = conn.cursor()\n",
    "\n",
    "            # Calculate yearly statistics for each station, excluding missing data\n",
    "            query = \"\"\"\n",
    "            SELECT station_id, \n",
    "                   YEAR(date) as year, \n",
    "                   AVG(max_temp) as avg_max_temp, \n",
    "                   AVG(min_temp) as avg_min_temp, \n",
    "                   SUM(precipitation) as total_precipitation\n",
    "            FROM weather_data\n",
    "            WHERE max_temp IS NOT NULL AND \n",
    "            min_temp IS NOT NULL AND \n",
    "            precipitation IS NOT NULL\n",
    "            GROUP BY station_id, YEAR(date)\n",
    "            \"\"\"\n",
    "            cursor.execute(query)\n",
    "            results = cursor.fetchall()\n",
    "\n",
    "            # Insert or update statistics in weather_statistics with tqdm progress bar\n",
    "            for row in tqdm(results, desc=\"Updating statistics\"):\n",
    "                station_id, year, avg_max_temp, avg_min_temp, total_precipitation = row\n",
    "                upsert_query = \"\"\"\n",
    "                INSERT INTO weather_statistics (station_id, year, avg_max_temp, avg_min_temp, total_precipitation)\n",
    "                VALUES (%s, %s, %s, %s, %s)\n",
    "                ON DUPLICATE KEY UPDATE avg_max_temp=VALUES(avg_max_temp), \n",
    "                                        avg_min_temp=VALUES(avg_min_temp),\n",
    "                                        total_precipitation=VALUES(total_precipitation)\n",
    "                \"\"\"\n",
    "                cursor.execute(upsert_query, (station_id, year, avg_max_temp, avg_min_temp, total_precipitation))\n",
    "            \n",
    "            conn.commit()\n",
    "            print(\"Statistics successfully updated.\")\n",
    "    except Error as e:\n",
    "        print(\"Error while connecting to MySQL\", e)\n",
    "    finally:\n",
    "        if conn.is_connected():\n",
    "            cursor.close()\n",
    "            conn.close()\n",
    "            print(\"MySQL connection is closed\")"
   ]
  },
  {
   "cell_type": "code",
   "execution_count": 4,
   "id": "baf3f7bb",
   "metadata": {},
   "outputs": [
    {
     "name": "stderr",
     "output_type": "stream",
     "text": [
      "Updating statistics: 100%|████████████████████████████████████████████████████████████████████| 4791/4791 [00:02<00:00, 2190.21it/s]\n"
     ]
    },
    {
     "name": "stdout",
     "output_type": "stream",
     "text": [
      "Statistics successfully updated.\n",
      "MySQL connection is closed\n"
     ]
    }
   ],
   "source": [
    "if __name__ == \"__main__\":\n",
    "    weather_data_statistics(db_config)"
   ]
  },
  {
   "cell_type": "code",
   "execution_count": null,
   "id": "3e57aac2",
   "metadata": {},
   "outputs": [],
   "source": []
  }
 ],
 "metadata": {
  "kernelspec": {
   "display_name": "Python 3 (ipykernel)",
   "language": "python",
   "name": "python3"
  },
  "language_info": {
   "codemirror_mode": {
    "name": "ipython",
    "version": 3
   },
   "file_extension": ".py",
   "mimetype": "text/x-python",
   "name": "python",
   "nbconvert_exporter": "python",
   "pygments_lexer": "ipython3",
   "version": "3.10.9"
  }
 },
 "nbformat": 4,
 "nbformat_minor": 5
}
