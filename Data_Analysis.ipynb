{
 "cells": [
  {
   "cell_type": "code",
   "execution_count": 1,
   "id": "c8ff36f6",
   "metadata": {},
   "outputs": [],
   "source": [
    "import mysql.connector\n",
    "from mysql.connector import Error\n",
    "import os\n",
    "import logging\n",
    "from datetime import datetime\n",
    "from tqdm import tqdm\n",
    "import logging"
   ]
  },
  {
   "cell_type": "code",
   "execution_count": 2,
   "id": "df1342bb",
   "metadata": {},
   "outputs": [],
   "source": [
    "# Configure logging similar to the provided data_ingestion example\n",
    "logging.basicConfig(filename='weather_data_statistics_log.log',  # Log file path\n",
    "                    filemode='a',  # Append mode\n",
    "                    format='%(asctime)s - %(levelname)s - %(message)s',\n",
    "                    level=logging.INFO)"
   ]
  },
  {
   "cell_type": "code",
   "execution_count": 3,
   "id": "73e3010b",
   "metadata": {},
   "outputs": [],
   "source": [
    "# Database configuration details, Please replace the host, user, password, database name accordingly.\n",
    "db_config = {\n",
    "    'host': 'localhost',\n",
    "    'user': '', \n",
    "    'password': '',  \n",
    "    'database': 'corteva'  \n",
    "}"
   ]
  },
  {
   "cell_type": "code",
   "execution_count": 4,
   "id": "0d0e1616",
   "metadata": {},
   "outputs": [],
   "source": [
    "def db_connection(config):\n",
    "    \"\"\"A function to establish MySQL database connection.\"\"\"\n",
    "    try:\n",
    "        connection = mysql.connector.connect(**config)\n",
    "        return connection\n",
    "    except mysql.connector.Error as error:\n",
    "        logging.error(f\"Error connecting to the database: {error}\")\n",
    "    return None"
   ]
  },
  {
   "cell_type": "code",
   "execution_count": 5,
   "id": "47325e8a",
   "metadata": {},
   "outputs": [],
   "source": [
    "def weather_data_statistics(config):\n",
    "    \"\"\"\n",
    "    Function to calculate average temperature (minimum and maximum) and total precipitation from weather_data table\n",
    "    and ingest it into a new table in the same database, called weather_statistics.\n",
    "    \n",
    "    Args:\n",
    "        config: Configuration object for database connection.\n",
    "        \n",
    "    Returns:\n",
    "        None\n",
    "    \"\"\"\n",
    "    conn = db_connection(config)  # Assuming db_connection is a function that connects to the database and returns a connection object\n",
    "    if not conn:\n",
    "        logging.error(\"Failed to connect to the database.\")\n",
    "        return\n",
    "    \n",
    "    start_time = datetime.now()\n",
    "    logging.info(\"Starting weather data statistics calculation...\")\n",
    "\n",
    "    try:\n",
    "        cursor = conn.cursor()\n",
    "        # Calculate yearly statistics for each station, excluding missing data\n",
    "        query = \"\"\"\n",
    "        SELECT station_id, \n",
    "               YEAR(date) as year, \n",
    "               AVG(max_temp) as avg_max_temp, \n",
    "               AVG(min_temp) as avg_min_temp, \n",
    "               SUM(precipitation) as total_precipitation\n",
    "        FROM weather_data\n",
    "        WHERE max_temp IS NOT NULL AND \n",
    "              min_temp IS NOT NULL AND \n",
    "              precipitation IS NOT NULL\n",
    "        GROUP BY station_id, YEAR(date)\n",
    "        \"\"\"\n",
    "        cursor.execute(query)\n",
    "        results = cursor.fetchall()\n",
    "\n",
    "        # Assuming tqdm is used for visual progress indication\n",
    "        for row in tqdm(results, desc=\"Updating statistics\"):\n",
    "            station_id, year, avg_max_temp, avg_min_temp, total_precipitation = row\n",
    "            upsert_query = \"\"\"\n",
    "            INSERT INTO weather_statistics (station_id, year, avg_max_temp, avg_min_temp, total_precipitation)\n",
    "            VALUES (%s, %s, %s, %s, %s)\n",
    "            ON DUPLICATE KEY UPDATE avg_max_temp=VALUES(avg_max_temp), \n",
    "                                    avg_min_temp=VALUES(avg_min_temp),\n",
    "                                    total_precipitation=VALUES(total_precipitation)\n",
    "            \"\"\"\n",
    "            cursor.execute(upsert_query, (station_id, year, avg_max_temp, avg_min_temp, total_precipitation))\n",
    "        conn.commit()\n",
    "    except Error as e:\n",
    "        logging.error(f\"Database error: {e}\")\n",
    "    finally:\n",
    "        if conn.is_connected():\n",
    "            cursor.close()\n",
    "            conn.close()\n",
    "            logging.info(\"Database connection closed.\")\n",
    "\n",
    "    end_time = datetime.now()\n",
    "    duration = end_time - start_time\n",
    "    logging.info(f\"Statistics calculation completed. Start time: {start_time}, End time: {end_time}, Duration: {duration}\")\n"
   ]
  },
  {
   "cell_type": "code",
   "execution_count": 6,
   "id": "baf3f7bb",
   "metadata": {},
   "outputs": [
    {
     "name": "stderr",
     "output_type": "stream",
     "text": [
      "Updating statistics: 100%|████████████████████████████████████████████████████████████████████| 4791/4791 [00:02<00:00, 1761.41it/s]\n"
     ]
    }
   ],
   "source": [
    "if __name__ == \"__main__\":\n",
    "    weather_data_statistics(db_config)"
   ]
  }
 ],
 "metadata": {
  "kernelspec": {
   "display_name": "Python 3 (ipykernel)",
   "language": "python",
   "name": "python3"
  },
  "language_info": {
   "codemirror_mode": {
    "name": "ipython",
    "version": 3
   },
   "file_extension": ".py",
   "mimetype": "text/x-python",
   "name": "python",
   "nbconvert_exporter": "python",
   "pygments_lexer": "ipython3",
   "version": "3.10.9"
  }
 },
 "nbformat": 4,
 "nbformat_minor": 5
}
